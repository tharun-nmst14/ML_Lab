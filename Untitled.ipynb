{
 "cells": [
  {
   "cell_type": "code",
   "execution_count": 2,
   "id": "9ee0aad1",
   "metadata": {},
   "outputs": [],
   "source": [
    "import pandas as pd\n"
   ]
  },
  {
   "cell_type": "markdown",
   "id": "00095fbc",
   "metadata": {},
   "source": [
    "# Creating a Series"
   ]
  },
  {
   "cell_type": "code",
   "execution_count": 18,
   "id": "4b3c727f",
   "metadata": {
    "scrolled": true
   },
   "outputs": [
    {
     "name": "stdout",
     "output_type": "stream",
     "text": [
      "0    10\n",
      "1    20\n",
      "2    30\n",
      "3    40\n",
      "dtype: int64\n"
     ]
    }
   ],
   "source": [
    "import pandas as pd\n",
    "data = [10, 20, 30, 40]\n",
    "v = pd.Series(data)\n",
    "print(v)"
   ]
  },
  {
   "cell_type": "markdown",
   "id": "4f0d399c",
   "metadata": {},
   "source": [
    "# Creating a DataFrame"
   ]
  },
  {
   "cell_type": "code",
   "execution_count": 54,
   "id": "4252a3ef",
   "metadata": {},
   "outputs": [
    {
     "name": "stdout",
     "output_type": "stream",
     "text": [
      "      Name  Age         City\n",
      "0    Alice   25     New York\n",
      "1      Bob   30  Los Angeles\n",
      "2  Charlie   35      Chicago\n"
     ]
    }
   ],
   "source": [
    "data = {\n",
    "'Name': ['Alice', 'Bob', 'Charlie'],\n",
    "'Age': [25, 30, 35],\n",
    "'City': ['New York', 'Los Angeles', 'Chicago']\n",
    "}\n",
    "df = pd.DataFrame(data)\n",
    "print(df)"
   ]
  },
  {
   "cell_type": "markdown",
   "id": "d4cdc98f",
   "metadata": {},
   "source": [
    "# Reading Data from Files"
   ]
  },
  {
   "cell_type": "code",
   "execution_count": 57,
   "id": "3081796f",
   "metadata": {},
   "outputs": [
    {
     "name": "stdout",
     "output_type": "stream",
     "text": [
      "   TransactionID TransactionDate  UserID  ProductID  Quantity\n",
      "0              1      2010-08-21     7.0          2         1\n",
      "1              2      2011-05-26     3.0          4         1\n",
      "2              3      2011-06-16     3.0          3         1\n",
      "3              4      2012-08-26     1.0          2         3\n",
      "4              5      2013-06-06     2.0          4         1\n",
      "5              6      2013-12-23     2.0          5         6\n",
      "6              7      2013-12-30     3.0          4         1\n",
      "7              8      2014-04-24     NaN          2         3\n",
      "8              9      2015-04-24     7.0          4         3\n",
      "9             10      2016-05-08     3.0          4         4\n"
     ]
    }
   ],
   "source": [
    "df=pd.read_csv('transactions.csv')\n",
    "print(df)"
   ]
  },
  {
   "cell_type": "markdown",
   "id": "c8d3080b",
   "metadata": {},
   "source": [
    "# head() used to extract data from top by value index starts from - 0 and default return 5 rows"
   ]
  },
  {
   "cell_type": "code",
   "execution_count": 17,
   "id": "05f9c7ea",
   "metadata": {},
   "outputs": [
    {
     "name": "stdout",
     "output_type": "stream",
     "text": [
      "   TransactionID TransactionDate  UserID  ProductID  Quantity\n",
      "0              1      2010-08-21     7.0          2         1\n",
      "1              2      2011-05-26     3.0          4         1\n",
      "2              3      2011-06-16     3.0          3         1\n",
      "3              4      2012-08-26     1.0          2         3\n",
      "4              5      2013-06-06     2.0          4         1\n"
     ]
    }
   ],
   "source": [
    "print(df.head())"
   ]
  },
  {
   "cell_type": "code",
   "execution_count": 16,
   "id": "104abb76",
   "metadata": {},
   "outputs": [
    {
     "name": "stdout",
     "output_type": "stream",
     "text": [
      "   TransactionID TransactionDate  UserID  ProductID  Quantity\n",
      "0              1      2010-08-21     7.0          2         1\n",
      "1              2      2011-05-26     3.0          4         1\n",
      "2              3      2011-06-16     3.0          3         1\n",
      "3              4      2012-08-26     1.0          2         3\n",
      "4              5      2013-06-06     2.0          4         1\n",
      "5              6      2013-12-23     2.0          5         6\n"
     ]
    }
   ],
   "source": [
    "print(df.head(6))"
   ]
  },
  {
   "cell_type": "markdown",
   "id": "f7e9df57",
   "metadata": {},
   "source": [
    "# tail() used to extract data from bottom by value index starts from last and default return 5 rows"
   ]
  },
  {
   "cell_type": "code",
   "execution_count": 26,
   "id": "4d215327",
   "metadata": {},
   "outputs": [
    {
     "name": "stdout",
     "output_type": "stream",
     "text": [
      "   TransactionID TransactionDate  UserID  ProductID  Quantity\n",
      "5              6      2013-12-23     2.0          5         6\n",
      "6              7      2013-12-30     3.0          4         1\n",
      "7              8      2014-04-24     NaN          2         3\n",
      "8              9      2015-04-24     7.0          4         3\n",
      "9             10      2016-05-08     3.0          4         4\n"
     ]
    }
   ],
   "source": [
    "print(df.tail())"
   ]
  },
  {
   "cell_type": "code",
   "execution_count": 29,
   "id": "26112777",
   "metadata": {},
   "outputs": [
    {
     "name": "stdout",
     "output_type": "stream",
     "text": [
      "<class 'pandas.core.frame.DataFrame'>\n",
      "RangeIndex: 10 entries, 0 to 9\n",
      "Data columns (total 5 columns):\n",
      " #   Column           Non-Null Count  Dtype  \n",
      "---  ------           --------------  -----  \n",
      " 0   TransactionID    10 non-null     int64  \n",
      " 1   TransactionDate  10 non-null     object \n",
      " 2   UserID           9 non-null      float64\n",
      " 3   ProductID        10 non-null     int64  \n",
      " 4   Quantity         10 non-null     int64  \n",
      "dtypes: float64(1), int64(3), object(1)\n",
      "memory usage: 532.0+ bytes\n",
      "None\n"
     ]
    }
   ],
   "source": [
    "# info() that gives you more info how many Non-Null values there \n",
    "# are present in each column, and in our data set\n",
    "\n",
    "print(df.info())"
   ]
  },
  {
   "cell_type": "code",
   "execution_count": 31,
   "id": "5039b362",
   "metadata": {
    "scrolled": true
   },
   "outputs": [
    {
     "name": "stdout",
     "output_type": "stream",
     "text": [
      "       TransactionID    UserID  ProductID   Quantity\n",
      "count       10.00000  9.000000  10.000000  10.000000\n",
      "mean         5.50000  3.444444   3.400000   2.400000\n",
      "std          3.02765  2.127858   1.074968   1.712698\n",
      "min          1.00000  1.000000   2.000000   1.000000\n",
      "25%          3.25000  2.000000   2.250000   1.000000\n",
      "50%          5.50000  3.000000   4.000000   2.000000\n",
      "75%          7.75000  3.000000   4.000000   3.000000\n",
      "max         10.00000  7.000000   5.000000   6.000000\n"
     ]
    }
   ],
   "source": [
    "# describe(): Summarizes data with metrics like mean, count, min, max, etc.\n",
    "\n",
    "print(df.describe())"
   ]
  },
  {
   "cell_type": "code",
   "execution_count": 41,
   "id": "9f093f85",
   "metadata": {},
   "outputs": [
    {
     "name": "stdout",
     "output_type": "stream",
     "text": [
      "0    7.0\n",
      "1    3.0\n",
      "2    3.0\n",
      "3    1.0\n",
      "4    2.0\n",
      "5    2.0\n",
      "6    3.0\n",
      "7    NaN\n",
      "8    7.0\n",
      "9    3.0\n",
      "Name: UserID, dtype: float64\n"
     ]
    }
   ],
   "source": [
    "# # accessing a single [] or required col [[ , ]]\n",
    "print(df['UserID'])"
   ]
  },
  {
   "cell_type": "code",
   "execution_count": 39,
   "id": "1c8946d6",
   "metadata": {
    "scrolled": true
   },
   "outputs": [
    {
     "name": "stdout",
     "output_type": "stream",
     "text": [
      "   UserID  ProductID\n",
      "0     7.0          2\n",
      "1     3.0          4\n",
      "2     3.0          3\n",
      "3     1.0          2\n",
      "4     2.0          4\n",
      "5     2.0          5\n",
      "6     3.0          4\n",
      "7     NaN          2\n",
      "8     7.0          4\n",
      "9     3.0          4\n"
     ]
    }
   ],
   "source": [
    "print(df[['UserID','ProductID']]) "
   ]
  },
  {
   "cell_type": "code",
   "execution_count": 43,
   "id": "48661dc0",
   "metadata": {},
   "outputs": [
    {
     "name": "stdout",
     "output_type": "stream",
     "text": [
      "TransactionID               2\n",
      "TransactionDate    2011-05-26\n",
      "UserID                    3.0\n",
      "ProductID                   4\n",
      "Quantity                    1\n",
      "Name: 1, dtype: object\n"
     ]
    }
   ],
   "source": [
    "# df.iloc[row_index]: Accesses a row by its position.\n",
    "print(df.iloc[1])"
   ]
  },
  {
   "cell_type": "markdown",
   "id": "adb7e246",
   "metadata": {},
   "source": [
    "# Filtering Data"
   ]
  },
  {
   "cell_type": "code",
   "execution_count": 77,
   "id": "dbe64277",
   "metadata": {},
   "outputs": [
    {
     "name": "stdout",
     "output_type": "stream",
     "text": [
      "   TransactionID TransactionDate  UserID  ProductID  Quantity\n",
      "3              4      2012-08-26     1.0          2         3\n",
      "5              6      2013-12-23     2.0          5         6\n",
      "7              8      2014-04-24     NaN          2         3\n",
      "8              9      2015-04-24     7.0          4         3\n",
      "9             10      2016-05-08     3.0          4         4\n"
     ]
    }
   ],
   "source": [
    "# Condition (df['Age'] > 30): Filters rows where age > 30 and returns\n",
    "print(df[df['Quantity']>1])"
   ]
  },
  {
   "cell_type": "markdown",
   "id": "f4af1402",
   "metadata": {},
   "source": [
    "# Renaming Columns"
   ]
  },
  {
   "cell_type": "code",
   "execution_count": 50,
   "id": "d6831587",
   "metadata": {},
   "outputs": [
    {
     "name": "stdout",
     "output_type": "stream",
     "text": [
      "   TransactionID TransactionDate  UserID  ProductID  Qty\n",
      "0              1      2010-08-21     7.0          2    1\n",
      "1              2      2011-05-26     3.0          4    1\n",
      "2              3      2011-06-16     3.0          3    1\n",
      "3              4      2012-08-26     1.0          2    3\n",
      "4              5      2013-06-06     2.0          4    1\n"
     ]
    }
   ],
   "source": [
    "# rename(columns={old: new}, inplace=True)\n",
    "# inplace=True: Updates the DataFrame directly without needing to assign it to a new variable\n",
    "df.rename(columns={\"Quantity\": \"Qty\"},inplace=True)\n",
    "print(df.head())"
   ]
  },
  {
   "cell_type": "code",
   "execution_count": 68,
   "id": "e4ec3c60",
   "metadata": {},
   "outputs": [
    {
     "name": "stdout",
     "output_type": "stream",
     "text": [
      "   TransactionID TransactionDate    UserID  ProductID  Quantity\n",
      "0              1      2010-08-21  7.000000          2         1\n",
      "1              2      2011-05-26  3.000000          4         1\n",
      "2              3      2011-06-16  3.000000          3         1\n",
      "3              4      2012-08-26  1.000000          2         3\n",
      "4              5      2013-06-06  2.000000          4         1\n",
      "5              6      2013-12-23  2.000000          5         6\n",
      "6              7      2013-12-30  3.000000          4         1\n",
      "7              8      2014-04-24  3.444444          2         3\n",
      "8              9      2015-04-24  7.000000          4         3\n",
      "9             10      2016-05-08  3.000000          4         4\n",
      "TransactionID      0\n",
      "TransactionDate    0\n",
      "UserID             0\n",
      "ProductID          0\n",
      "Quantity           0\n",
      "dtype: int64\n",
      "None\n",
      "None\n",
      "   TransactionID TransactionDate    UserID  ProductID  Quantity\n",
      "0              1      2010-08-21  7.000000          2         1\n",
      "1              2      2011-05-26  3.000000          4         1\n",
      "2              3      2011-06-16  3.000000          3         1\n",
      "3              4      2012-08-26  1.000000          2         3\n",
      "4              5      2013-06-06  2.000000          4         1\n",
      "5              6      2013-12-23  2.000000          5         6\n",
      "6              7      2013-12-30  3.000000          4         1\n",
      "7              8      2014-04-24  3.444444          2         3\n",
      "8              9      2015-04-24  7.000000          4         3\n",
      "9             10      2016-05-08  3.000000          4         4\n"
     ]
    }
   ],
   "source": [
    "print(df)\n",
    "print(df.isnull().sum()) #count for Nan value\n",
    "fillNa=df['UserID'].fillna(df['UserID'].mean(),inplace=True) #fill Nan value by assigning\n",
    "print(fillNa)\n",
    "dropNa=df.dropna(inplace=True) #drop Nan row\n",
    "print(dropNa)\n",
    "print(df)"
   ]
  },
  {
   "cell_type": "markdown",
   "id": "81d34073",
   "metadata": {},
   "source": [
    "# sort_values(by=[\"c1 \", \"c2 \"]),ascending=[True,False])"
   ]
  },
  {
   "cell_type": "code",
   "execution_count": 75,
   "id": "6bb63534",
   "metadata": {},
   "outputs": [
    {
     "name": "stdout",
     "output_type": "stream",
     "text": [
      "   TransactionID TransactionDate  UserID  ProductID  Quantity\n",
      "6              7      2013-12-30     3.0          4         1\n",
      "4              5      2013-06-06     2.0          4         1\n",
      "2              3      2011-06-16     3.0          3         1\n",
      "1              2      2011-05-26     3.0          4         1\n",
      "0              1      2010-08-21     7.0          2         1\n",
      "8              9      2015-04-24     7.0          4         3\n",
      "7              8      2014-04-24     NaN          2         3\n",
      "3              4      2012-08-26     1.0          2         3\n",
      "9             10      2016-05-08     3.0          4         4\n",
      "5              6      2013-12-23     2.0          5         6\n"
     ]
    }
   ],
   "source": [
    "# The rows of T=asc F=desc\n",
    "df = pd.read_csv(\"transactions.csv\")\n",
    "df_sorted = df.sort_values(by=[\"Quantity\", \"TransactionDate\"],\n",
    "ascending=[True, False])\n",
    "print(df_sorted)"
   ]
  },
  {
   "cell_type": "markdown",
   "id": "54efe3f3",
   "metadata": {},
   "source": [
    "# Subsetting data"
   ]
  },
  {
   "cell_type": "code",
   "execution_count": 90,
   "id": "d135f6e8",
   "metadata": {},
   "outputs": [
    {
     "name": "stdout",
     "output_type": "stream",
     "text": [
      "   TransactionID TransactionDate  UserID  ProductID  Quantity\n",
      "3              4      2012-08-26     1.0          2         3\n",
      "5              6      2013-12-23     2.0          5         6\n",
      "7              8      2014-04-24     NaN          2         3\n",
      "8              9      2015-04-24     7.0          4         3\n",
      "9             10      2016-05-08     3.0          4         4\n"
     ]
    }
   ],
   "source": [
    "print(df[df['Quantity']>1])"
   ]
  },
  {
   "cell_type": "code",
   "execution_count": 79,
   "id": "b156ac43",
   "metadata": {},
   "outputs": [
    {
     "name": "stdout",
     "output_type": "stream",
     "text": [
      "   TransactionID TransactionDate  UserID  ProductID  Quantity\n",
      "0              1      2010-08-21     7.0          2         1\n",
      "2              3      2011-06-16     3.0          3         1\n",
      "5              6      2013-12-23     2.0          5         6\n"
     ]
    }
   ],
   "source": [
    "# Subset rows 1, 3, and 6\n",
    "print(df.iloc[[0,2,5]])"
   ]
  },
  {
   "cell_type": "code",
   "execution_count": 84,
   "id": "183722a5",
   "metadata": {
    "scrolled": true
   },
   "outputs": [
    {
     "name": "stdout",
     "output_type": "stream",
     "text": [
      "   TransactionID TransactionDate  UserID  ProductID  Quantity\n",
      "0              1      2010-08-21     7.0          2         1\n",
      "2              3      2011-06-16     3.0          3         1\n",
      "4              5      2013-06-06     2.0          4         1\n",
      "6              7      2013-12-30     3.0          4         1\n",
      "8              9      2015-04-24     7.0          4         3\n"
     ]
    }
   ],
   "source": [
    "# Fecthes True Row \n",
    "foo = [True, False, True, False,True, False, True, False,True, False] # Example of a boolean array\n",
    "subset_rows = df[foo]\n",
    "print(subset_rows)"
   ]
  },
  {
   "cell_type": "code",
   "execution_count": 98,
   "id": "0485a634",
   "metadata": {},
   "outputs": [
    {
     "name": "stdout",
     "output_type": "stream",
     "text": [
      "   TransactionID TransactionDate\n",
      "3              4      2012-08-26\n",
      "5              6      2013-12-23\n",
      "7              8      2014-04-24\n",
      "8              9      2015-04-24\n",
      "9             10      2016-05-08\n",
      "0     1\n",
      "1     2\n",
      "2     3\n",
      "3     4\n",
      "4     5\n",
      "5     6\n",
      "6     7\n",
      "7     8\n",
      "8     9\n",
      "9    10\n",
      "Name: TransactionID, dtype: int64\n"
     ]
    }
   ],
   "source": [
    "subset = df[df['Quantity'] > 1][['TransactionID',\n",
    "'TransactionDate']]\n",
    "print(subset)\n",
    "print(df[\"TransactionID\"])"
   ]
  },
  {
   "cell_type": "markdown",
   "id": "30e520dd",
   "metadata": {},
   "source": [
    "# pd.to_datetime()"
   ]
  },
  {
   "cell_type": "code",
   "execution_count": 105,
   "id": "cf36f675",
   "metadata": {},
   "outputs": [
    {
     "name": "stdout",
     "output_type": "stream",
     "text": [
      "TransactionID               int64\n",
      "TransactionDate    datetime64[ns]\n",
      "UserID                    float64\n",
      "ProductID                   int64\n",
      "Quantity                    int64\n",
      "dtype: object\n",
      "   TransactionID TransactionDate  UserID  ProductID  Quantity\n",
      "0              1      2010-08-21     7.0          2         1\n",
      "1              2      2011-05-26     3.0          4         1\n",
      "2              3      2011-06-16     3.0          3         1\n",
      "3              4      2012-08-26     1.0          2         3\n",
      "4              5      2013-06-06     2.0          4         1\n"
     ]
    }
   ],
   "source": [
    "df['TransactionDate']=pd.to_datetime(df['TransactionDate']) #converts type to datetime\n",
    "print(df.dtypes)\n",
    "print(df.head())"
   ]
  },
  {
   "cell_type": "code",
   "execution_count": 107,
   "id": "dee2e32f",
   "metadata": {},
   "outputs": [
    {
     "name": "stdout",
     "output_type": "stream",
     "text": [
      "   TransactionID TransactionDate  UserID  ProductID  Quantity  NewCol\n",
      "0              1      2010-08-21     7.0          2         1       3\n",
      "1              2      2011-05-26     3.0          4         1       5\n",
      "2              3      2011-06-16     3.0          3         1       4\n",
      "3              4      2012-08-26     1.0          2         3       5\n",
      "4              5      2013-06-06     2.0          4         1       5\n"
     ]
    }
   ],
   "source": [
    "# insert new column\n",
    "\n",
    "df['NewCol']=df['ProductID']+df['Quantity']\n",
    "print(df.head())\n"
   ]
  },
  {
   "cell_type": "markdown",
   "id": "8472efc9",
   "metadata": {},
   "source": [
    "# Updating Existing Values"
   ]
  },
  {
   "cell_type": "code",
   "execution_count": 108,
   "id": "68e6d40e",
   "metadata": {},
   "outputs": [
    {
     "name": "stdout",
     "output_type": "stream",
     "text": [
      "   TransactionID TransactionDate  UserID  ProductID  Quantity  NewCol\n",
      "0              1      2010-08-21     7.0          2         1       3\n",
      "1              2      2011-05-26     3.0          4         1       5\n",
      "2              3      2011-06-16     3.0          3         1       4\n",
      "3              4      2012-08-26     1.0          2         3       5\n",
      "4              5      2013-06-06     2.0          4         2       5\n"
     ]
    }
   ],
   "source": [
    "df.loc[df['UserID']==2,'Quantity']=2\n",
    "print(df.head())"
   ]
  },
  {
   "cell_type": "markdown",
   "id": "4cbaa811",
   "metadata": {},
   "source": [
    "# Problems:\n"
   ]
  },
  {
   "cell_type": "code",
   "execution_count": 109,
   "id": "1c781944",
   "metadata": {},
   "outputs": [
    {
     "name": "stdout",
     "output_type": "stream",
     "text": [
      "   TransactionID TransactionDate  UserID  ProductID  Quantity\n",
      "0              1      2010-08-21     7.0          2         1\n",
      "1              2      2011-05-26     3.0          4         1\n",
      "2              3      2011-06-16     3.0          3         1\n",
      "3              4      2012-08-26     1.0          2         3\n",
      "4              5      2013-06-06     2.0          4         1\n",
      "5              6      2013-12-23     2.0          5         6\n",
      "6              7      2013-12-30     3.0          4         1\n",
      "7              8      2014-04-24     NaN          2         3\n",
      "8              9      2015-04-24     7.0          4         3\n",
      "9             10      2016-05-08     3.0          4         4\n"
     ]
    }
   ],
   "source": [
    "import pandas as pd\n",
    "df=pd.read_csv('transactions.csv')\n",
    "print(df)"
   ]
  },
  {
   "cell_type": "code",
   "execution_count": 111,
   "id": "4e3eeada",
   "metadata": {},
   "outputs": [
    {
     "name": "stdout",
     "output_type": "stream",
     "text": [
      "   TransactionID TransactionDate  UserID  ProductID  Quantity\n",
      "0              1      2010-08-21     7.0          2         1\n",
      "1              2      2011-05-26     3.0          4         1\n",
      "2              3      2011-06-16     3.0          3         1\n",
      "3              4      2012-08-26     1.0          2         3\n",
      "4              5      2013-06-06     2.0          4         1\n",
      "5              6      2013-12-23     2.0          5         6\n",
      "6              7      2013-12-30     3.0          4         1\n",
      "7              8      2014-04-24     NaN          2         3\n",
      "8              9      2015-04-24     7.0          4         3\n",
      "9             10      2016-05-08     3.0          4         4\n"
     ]
    }
   ],
   "source": [
    "# 1. Print Summary of transaction data set\n",
    "print(df)"
   ]
  },
  {
   "cell_type": "code",
   "execution_count": 114,
   "id": "ec5b3986",
   "metadata": {},
   "outputs": [
    {
     "name": "stdout",
     "output_type": "stream",
     "text": [
      "TransactionID      10\n",
      "TransactionDate    10\n",
      "UserID              9\n",
      "ProductID          10\n",
      "Quantity           10\n",
      "dtype: int64\n"
     ]
    }
   ],
   "source": [
    "# 2. Print Numbers of Attributes\n",
    "print(df.count())"
   ]
  },
  {
   "cell_type": "code",
   "execution_count": null,
   "id": "415bac5a",
   "metadata": {},
   "outputs": [],
   "source": [
    "# 3. Print Numbers of Records\n"
   ]
  },
  {
   "cell_type": "code",
   "execution_count": 117,
   "id": "25c6a07b",
   "metadata": {},
   "outputs": [],
   "source": [
    "# 4. Get the row names\n"
   ]
  },
  {
   "cell_type": "code",
   "execution_count": null,
   "id": "b7844806",
   "metadata": {},
   "outputs": [],
   "source": [
    "# 5. Get the column names"
   ]
  },
  {
   "cell_type": "code",
   "execution_count": 118,
   "id": "082d5178",
   "metadata": {},
   "outputs": [
    {
     "name": "stdout",
     "output_type": "stream",
     "text": [
      "   TransactionID TransactionDate  UserID  ProductID  Quantity\n",
      "0              1      2010-08-21     7.0          2         1\n",
      "1              2      2011-05-26     3.0          4         1\n",
      "2              3      2011-06-16     3.0          3         1\n",
      "3              4      2012-08-26     1.0          2         3\n",
      "4              5      2013-06-06     2.0          4         1\n",
      "5              6      2013-12-23     2.0          5         6\n",
      "6              7      2013-12-30     3.0          4         1\n",
      "7              8      2014-04-24     NaN          2         3\n",
      "8              9      2015-04-24     7.0          4         3\n",
      "9             10      2016-05-08     3.0          4         4\n"
     ]
    }
   ],
   "source": [
    "# 6. View top 10 Records\n",
    "print(df.head(11))"
   ]
  },
  {
   "cell_type": "code",
   "execution_count": 119,
   "id": "0f2bae73",
   "metadata": {},
   "outputs": [
    {
     "ename": "KeyError",
     "evalue": "('Quantity', 'Quant')",
     "output_type": "error",
     "traceback": [
      "\u001b[0;31m---------------------------------------------------------------------------\u001b[0m",
      "\u001b[0;31mKeyError\u001b[0m                                  Traceback (most recent call last)",
      "File \u001b[0;32m~/anaconda3/lib/python3.11/site-packages/pandas/core/indexes/base.py:3802\u001b[0m, in \u001b[0;36mIndex.get_loc\u001b[0;34m(self, key, method, tolerance)\u001b[0m\n\u001b[1;32m   3801\u001b[0m \u001b[38;5;28;01mtry\u001b[39;00m:\n\u001b[0;32m-> 3802\u001b[0m     \u001b[38;5;28;01mreturn\u001b[39;00m \u001b[38;5;28mself\u001b[39m\u001b[38;5;241m.\u001b[39m_engine\u001b[38;5;241m.\u001b[39mget_loc(casted_key)\n\u001b[1;32m   3803\u001b[0m \u001b[38;5;28;01mexcept\u001b[39;00m \u001b[38;5;167;01mKeyError\u001b[39;00m \u001b[38;5;28;01mas\u001b[39;00m err:\n",
      "File \u001b[0;32m~/anaconda3/lib/python3.11/site-packages/pandas/_libs/index.pyx:138\u001b[0m, in \u001b[0;36mpandas._libs.index.IndexEngine.get_loc\u001b[0;34m()\u001b[0m\n",
      "File \u001b[0;32m~/anaconda3/lib/python3.11/site-packages/pandas/_libs/index.pyx:165\u001b[0m, in \u001b[0;36mpandas._libs.index.IndexEngine.get_loc\u001b[0;34m()\u001b[0m\n",
      "File \u001b[0;32mpandas/_libs/hashtable_class_helper.pxi:5745\u001b[0m, in \u001b[0;36mpandas._libs.hashtable.PyObjectHashTable.get_item\u001b[0;34m()\u001b[0m\n",
      "File \u001b[0;32mpandas/_libs/hashtable_class_helper.pxi:5753\u001b[0m, in \u001b[0;36mpandas._libs.hashtable.PyObjectHashTable.get_item\u001b[0;34m()\u001b[0m\n",
      "\u001b[0;31mKeyError\u001b[0m: ('Quantity', 'Quant')",
      "\nThe above exception was the direct cause of the following exception:\n",
      "\u001b[0;31mKeyError\u001b[0m                                  Traceback (most recent call last)",
      "Cell \u001b[0;32mIn[119], line 2\u001b[0m\n\u001b[1;32m      1\u001b[0m \u001b[38;5;66;03m# 7.Change the name of column “ Quantity” to “Quant”\u001b[39;00m\n\u001b[0;32m----> 2\u001b[0m renCol\u001b[38;5;241m=\u001b[39mdf\u001b[38;5;241m.\u001b[39mrename(df[\u001b[38;5;124m\"\u001b[39m\u001b[38;5;124mQuantity\u001b[39m\u001b[38;5;124m\"\u001b[39m,\u001b[38;5;124m\"\u001b[39m\u001b[38;5;124mQuant\u001b[39m\u001b[38;5;124m\"\u001b[39m])\n\u001b[1;32m      3\u001b[0m \u001b[38;5;28mprint\u001b[39m(renCol)\n",
      "File \u001b[0;32m~/anaconda3/lib/python3.11/site-packages/pandas/core/frame.py:3807\u001b[0m, in \u001b[0;36mDataFrame.__getitem__\u001b[0;34m(self, key)\u001b[0m\n\u001b[1;32m   3805\u001b[0m \u001b[38;5;28;01mif\u001b[39;00m \u001b[38;5;28mself\u001b[39m\u001b[38;5;241m.\u001b[39mcolumns\u001b[38;5;241m.\u001b[39mnlevels \u001b[38;5;241m>\u001b[39m \u001b[38;5;241m1\u001b[39m:\n\u001b[1;32m   3806\u001b[0m     \u001b[38;5;28;01mreturn\u001b[39;00m \u001b[38;5;28mself\u001b[39m\u001b[38;5;241m.\u001b[39m_getitem_multilevel(key)\n\u001b[0;32m-> 3807\u001b[0m indexer \u001b[38;5;241m=\u001b[39m \u001b[38;5;28mself\u001b[39m\u001b[38;5;241m.\u001b[39mcolumns\u001b[38;5;241m.\u001b[39mget_loc(key)\n\u001b[1;32m   3808\u001b[0m \u001b[38;5;28;01mif\u001b[39;00m is_integer(indexer):\n\u001b[1;32m   3809\u001b[0m     indexer \u001b[38;5;241m=\u001b[39m [indexer]\n",
      "File \u001b[0;32m~/anaconda3/lib/python3.11/site-packages/pandas/core/indexes/base.py:3804\u001b[0m, in \u001b[0;36mIndex.get_loc\u001b[0;34m(self, key, method, tolerance)\u001b[0m\n\u001b[1;32m   3802\u001b[0m     \u001b[38;5;28;01mreturn\u001b[39;00m \u001b[38;5;28mself\u001b[39m\u001b[38;5;241m.\u001b[39m_engine\u001b[38;5;241m.\u001b[39mget_loc(casted_key)\n\u001b[1;32m   3803\u001b[0m \u001b[38;5;28;01mexcept\u001b[39;00m \u001b[38;5;167;01mKeyError\u001b[39;00m \u001b[38;5;28;01mas\u001b[39;00m err:\n\u001b[0;32m-> 3804\u001b[0m     \u001b[38;5;28;01mraise\u001b[39;00m \u001b[38;5;167;01mKeyError\u001b[39;00m(key) \u001b[38;5;28;01mfrom\u001b[39;00m \u001b[38;5;21;01merr\u001b[39;00m\n\u001b[1;32m   3805\u001b[0m \u001b[38;5;28;01mexcept\u001b[39;00m \u001b[38;5;167;01mTypeError\u001b[39;00m:\n\u001b[1;32m   3806\u001b[0m     \u001b[38;5;66;03m# If we have a listlike key, _check_indexing_error will raise\u001b[39;00m\n\u001b[1;32m   3807\u001b[0m     \u001b[38;5;66;03m#  InvalidIndexError. Otherwise we fall through and re-raise\u001b[39;00m\n\u001b[1;32m   3808\u001b[0m     \u001b[38;5;66;03m#  the TypeError.\u001b[39;00m\n\u001b[1;32m   3809\u001b[0m     \u001b[38;5;28mself\u001b[39m\u001b[38;5;241m.\u001b[39m_check_indexing_error(key)\n",
      "\u001b[0;31mKeyError\u001b[0m: ('Quantity', 'Quant')"
     ]
    }
   ],
   "source": [
    "# 7.Change the name of column “ Quantity” to “Quant”\n",
    "df.reaname(columns={\"Quantity\",\"Quant\"},inpla)\n",
    "print(renCol)"
   ]
  },
  {
   "cell_type": "code",
   "execution_count": null,
   "id": "94a81c77",
   "metadata": {},
   "outputs": [],
   "source": []
  },
  {
   "cell_type": "code",
   "execution_count": null,
   "id": "73d6b2d9",
   "metadata": {},
   "outputs": [],
   "source": []
  },
  {
   "cell_type": "code",
   "execution_count": null,
   "id": "44d7d215",
   "metadata": {},
   "outputs": [],
   "source": []
  },
  {
   "cell_type": "code",
   "execution_count": null,
   "id": "63a904a5",
   "metadata": {},
   "outputs": [],
   "source": []
  },
  {
   "cell_type": "code",
   "execution_count": null,
   "id": "482318ef",
   "metadata": {},
   "outputs": [],
   "source": []
  },
  {
   "cell_type": "code",
   "execution_count": null,
   "id": "6d2dc73f",
   "metadata": {},
   "outputs": [],
   "source": []
  },
  {
   "cell_type": "code",
   "execution_count": null,
   "id": "4979efff",
   "metadata": {},
   "outputs": [],
   "source": []
  }
 ],
 "metadata": {
  "kernelspec": {
   "display_name": "Python 3 (ipykernel)",
   "language": "python",
   "name": "python3"
  },
  "language_info": {
   "codemirror_mode": {
    "name": "ipython",
    "version": 3
   },
   "file_extension": ".py",
   "mimetype": "text/x-python",
   "name": "python",
   "nbconvert_exporter": "python",
   "pygments_lexer": "ipython3",
   "version": "3.11.3"
  }
 },
 "nbformat": 4,
 "nbformat_minor": 5
}
