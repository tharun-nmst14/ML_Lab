{
 "cells": [
  {
   "cell_type": "code",
   "execution_count": 90,
   "id": "51907731",
   "metadata": {},
   "outputs": [],
   "source": [
    "import pandas as pd\n",
    "import numpy as np\n",
    "import seaborn as sns\n",
    "import matplotlib.pyplot as plt"
   ]
  },
  {
   "cell_type": "code",
   "execution_count": 5,
   "id": "6bdd0d7f",
   "metadata": {
    "scrolled": true
   },
   "outputs": [
    {
     "name": "stdout",
     "output_type": "stream",
     "text": [
      "    Manufacturer              Model  Sales in thousands 4-year resale value  \\\n",
      "0  Acura          Integra                        16.919               16.36   \n",
      "1  Acura          TL                             39.384              19.875   \n",
      "2  Acura          CL                             14.114              18.225   \n",
      "3  Acura          RL                              8.588              29.725   \n",
      "4  Audi           A4                             20.397              22.255   \n",
      "\n",
      "  Vehicle type Price in thousands Engine size Horsepower Wheelbase Width  \\\n",
      "0    Passenger               21.5         1.8        140     101.2  67.3   \n",
      "1    Passenger               28.4         3.2        225     108.1  70.3   \n",
      "2    Passenger                  .         3.2        225     106.9  70.6   \n",
      "3    Passenger                 42         3.5        210     114.6  71.4   \n",
      "4    Passenger              23.99         1.8        150     102.6  68.2   \n",
      "\n",
      "  Length Curb weight Fuel capacity Fuel efficiency Latest Launch  \n",
      "0  172.4       2.639          13.2              28      2-Feb-14  \n",
      "1  192.9       3.517          17.2              25      6-Mar-15  \n",
      "2    192        3.47          17.2              26      1-Apr-14  \n",
      "3  196.6        3.85            18              22      3-Oct-15  \n",
      "4    178       2.998          16.4              27     10-Aug-15  \n"
     ]
    }
   ],
   "source": [
    "df=pd.read_csv(\"Car_sales.csv\")\n",
    "print(df.head())"
   ]
  },
  {
   "cell_type": "code",
   "execution_count": 8,
   "id": "252a0767",
   "metadata": {},
   "outputs": [
    {
     "name": "stdout",
     "output_type": "stream",
     "text": [
      "Number of attributes: 15\n"
     ]
    }
   ],
   "source": [
    "num_attributes = df.shape[1]\n",
    "print(\"Number of attributes:\", num_attributes)"
   ]
  },
  {
   "cell_type": "code",
   "execution_count": 96,
   "id": "d99ae3d2",
   "metadata": {},
   "outputs": [
    {
     "name": "stdout",
     "output_type": "stream",
     "text": [
      "Number of rows: 157\n",
      "Number of columns: 15\n"
     ]
    }
   ],
   "source": [
    "num_rows, num_columns = df.shape\n",
    "print(\"Number of rows:\", num_rows)\n",
    "print(\"Number of columns:\", num_columns)"
   ]
  },
  {
   "cell_type": "code",
   "execution_count": 97,
   "id": "e02fbb81",
   "metadata": {},
   "outputs": [
    {
     "name": "stdout",
     "output_type": "stream",
     "text": [
      "Number of rows before removing duplicates: 157\n",
      "Number of rows after removing duplicates: 157\n"
     ]
    }
   ],
   "source": [
    "df_cleaned = df.drop_duplicates()\n",
    "print(\"Number of rows before removing duplicates:\", df.shape[0])\n",
    "print(\"Number of rows after removing duplicates:\",\n",
    "df_cleaned.shape[0])"
   ]
  },
  {
   "cell_type": "code",
   "execution_count": 98,
   "id": "047b8ffe",
   "metadata": {},
   "outputs": [
    {
     "name": "stdout",
     "output_type": "stream",
     "text": [
      "Summary Statistics for Numerical Variables:\n",
      "       Sales in thousands\n",
      "count          157.000000\n",
      "mean            52.998076\n",
      "std             68.029422\n",
      "min              0.110000\n",
      "25%             14.114000\n",
      "50%             29.450000\n",
      "75%             67.956000\n",
      "max            540.561000\n"
     ]
    }
   ],
   "source": [
    "print(\"Summary Statistics for Numerical Variables:\")\n",
    "print(df.describe())"
   ]
  },
  {
   "cell_type": "code",
   "execution_count": 99,
   "id": "d1a541e3",
   "metadata": {},
   "outputs": [
    {
     "name": "stdout",
     "output_type": "stream",
     "text": [
      "Number of missing values in each column:\n",
      "Manufacturer           0\n",
      "Model                  0\n",
      "Sales in thousands     0\n",
      "4-year resale value    0\n",
      "Vehicle type           0\n",
      "Price in thousands     0\n",
      "Engine size            0\n",
      "Horsepower             0\n",
      "Wheelbase              0\n",
      "Width                  0\n",
      "Length                 0\n",
      "Curb weight            0\n",
      "Fuel capacity          0\n",
      "Fuel efficiency        0\n",
      "Latest Launch          0\n",
      "dtype: int64\n"
     ]
    }
   ],
   "source": [
    "print(\"Number of missing values in each column:\")\n",
    "print(df.isnull().sum())"
   ]
  },
  {
   "cell_type": "code",
   "execution_count": null,
   "id": "85280f0a",
   "metadata": {},
   "outputs": [],
   "source": []
  },
  {
   "cell_type": "code",
   "execution_count": null,
   "id": "7a6177fc",
   "metadata": {},
   "outputs": [],
   "source": []
  },
  {
   "cell_type": "code",
   "execution_count": null,
   "id": "98f0a5b5",
   "metadata": {},
   "outputs": [],
   "source": []
  },
  {
   "cell_type": "code",
   "execution_count": null,
   "id": "6427d4d8",
   "metadata": {},
   "outputs": [],
   "source": []
  },
  {
   "cell_type": "code",
   "execution_count": null,
   "id": "db403c2a",
   "metadata": {},
   "outputs": [],
   "source": []
  },
  {
   "cell_type": "code",
   "execution_count": null,
   "id": "551afd15",
   "metadata": {},
   "outputs": [],
   "source": []
  },
  {
   "cell_type": "code",
   "execution_count": null,
   "id": "ce3c867f",
   "metadata": {},
   "outputs": [],
   "source": []
  },
  {
   "cell_type": "code",
   "execution_count": null,
   "id": "a02b024b",
   "metadata": {},
   "outputs": [],
   "source": []
  },
  {
   "cell_type": "code",
   "execution_count": 15,
   "id": "37b39d6b",
   "metadata": {},
   "outputs": [
    {
     "name": "stdout",
     "output_type": "stream",
     "text": [
      "    Manufacturer              Model  Sales in thousands 4-year resale value  \\\n",
      "0  Acura          Integra                        16.919               16.36   \n",
      "1  Acura          TL                             39.384              19.875   \n",
      "2  Acura          CL                             14.114              18.225   \n",
      "3  Acura          RL                              8.588              29.725   \n",
      "4  Audi           A4                             20.397              22.255   \n",
      "\n",
      "  Vehicle type Price in thousands Engine size Horsepower Wheelbase Width  \\\n",
      "0    Passenger               21.5         1.8        140     101.2  67.3   \n",
      "1    Passenger               28.4         3.2        225     108.1  70.3   \n",
      "2    Passenger                  .         3.2        225     106.9  70.6   \n",
      "3    Passenger                 42         3.5        210     114.6  71.4   \n",
      "4    Passenger              23.99         1.8        150     102.6  68.2   \n",
      "\n",
      "  Length Curb weight Fuel capacity Fuel efficiency Latest Launch  \n",
      "0  172.4       2.639          13.2              28      2-Feb-14  \n",
      "1  192.9       3.517          17.2              25      6-Mar-15  \n",
      "2    192        3.47          17.2              26      1-Apr-14  \n",
      "3  196.6        3.85            18              22      3-Oct-15  \n",
      "4    178       2.998          16.4              27     10-Aug-15  \n"
     ]
    }
   ],
   "source": [
    "# 1. Read top five values\n",
    "print(df.head())"
   ]
  },
  {
   "cell_type": "code",
   "execution_count": 26,
   "id": "23020c63",
   "metadata": {},
   "outputs": [
    {
     "name": "stdout",
     "output_type": "stream",
     "text": [
      "<class 'pandas.core.frame.DataFrame'>\n",
      "RangeIndex: 157 entries, 0 to 156\n",
      "Data columns (total 15 columns):\n",
      " #   Column               Non-Null Count  Dtype  \n",
      "---  ------               --------------  -----  \n",
      " 0   Manufacturer         157 non-null    object \n",
      " 1   Model                157 non-null    object \n",
      " 2   Sales in thousands   157 non-null    float64\n",
      " 3   4-year resale value  157 non-null    object \n",
      " 4   Vehicle type         157 non-null    object \n",
      " 5   Price in thousands   157 non-null    object \n",
      " 6   Engine size          157 non-null    object \n",
      " 7   Horsepower           157 non-null    object \n",
      " 8   Wheelbase            157 non-null    object \n",
      " 9   Width                157 non-null    object \n",
      " 10  Length               157 non-null    object \n",
      " 11  Curb weight          157 non-null    object \n",
      " 12  Fuel capacity        157 non-null    object \n",
      " 13  Fuel efficiency      157 non-null    object \n",
      " 14  Latest Launch        157 non-null    object \n",
      "dtypes: float64(1), object(14)\n",
      "memory usage: 18.5+ KB\n",
      "None\n"
     ]
    }
   ],
   "source": [
    "# 2. Print dataframe info_data types of each column\n",
    "print(df.info())"
   ]
  },
  {
   "cell_type": "code",
   "execution_count": 38,
   "id": "2bd14d2e",
   "metadata": {},
   "outputs": [
    {
     "name": "stdout",
     "output_type": "stream",
     "text": [
      "rows 157\n",
      "col 15\n"
     ]
    }
   ],
   "source": [
    "# 3. Print number of rows and columns\n",
    "print(\"rows\",df.shape[0])\n",
    "print(\"col\",df.shape[1])"
   ]
  },
  {
   "cell_type": "code",
   "execution_count": 29,
   "id": "8abf4940",
   "metadata": {},
   "outputs": [
    {
     "name": "stdout",
     "output_type": "stream",
     "text": [
      "      Manufacturer              Model  Sales in thousands 4-year resale value  \\\n",
      "0    Acura          Integra                        16.919               16.36   \n",
      "1    Acura          TL                             39.384              19.875   \n",
      "2    Acura          CL                             14.114              18.225   \n",
      "3    Acura          RL                              8.588              29.725   \n",
      "4    Audi           A4                             20.397              22.255   \n",
      "..             ...                ...                 ...                 ...   \n",
      "152  Volvo          V40                             3.545                   .   \n",
      "153  Volvo          S70                            15.245                   .   \n",
      "154  Volvo          V70                            17.531                   .   \n",
      "155  Volvo          C70                             3.493                   .   \n",
      "156  Volvo          S80                            18.969                   .   \n",
      "\n",
      "    Vehicle type Price in thousands Engine size Horsepower Wheelbase Width  \\\n",
      "0      Passenger               21.5         1.8        140     101.2  67.3   \n",
      "1      Passenger               28.4         3.2        225     108.1  70.3   \n",
      "2      Passenger                  .         3.2        225     106.9  70.6   \n",
      "3      Passenger                 42         3.5        210     114.6  71.4   \n",
      "4      Passenger              23.99         1.8        150     102.6  68.2   \n",
      "..           ...                ...         ...        ...       ...   ...   \n",
      "152    Passenger               24.4         1.9        160     100.5  67.6   \n",
      "153    Passenger               27.5         2.4        168     104.9  69.3   \n",
      "154    Passenger               28.8         2.4        168     104.9  69.3   \n",
      "155    Passenger               45.5         2.3        236     104.9  71.5   \n",
      "156    Passenger                 36         2.9        201     109.9  72.1   \n",
      "\n",
      "    Length Curb weight Fuel capacity Fuel efficiency Latest Launch  \n",
      "0    172.4       2.639          13.2              28      2-Feb-14  \n",
      "1    192.9       3.517          17.2              25      6-Mar-15  \n",
      "2      192        3.47          17.2              26      1-Apr-14  \n",
      "3    196.6        3.85            18              22      3-Oct-15  \n",
      "4      178       2.998          16.4              27     10-Aug-15  \n",
      "..     ...         ...           ...             ...           ...  \n",
      "152  176.6       3.042          15.8              25     21-Sep-15  \n",
      "153  185.9       3.208          17.9              25     24-Nov-14  \n",
      "154  186.2       3.259          17.9              25     25-Jun-15  \n",
      "155  185.7       3.601          18.5              23     26-Apr-15  \n",
      "156  189.8         3.6          21.1              24     14-Nov-15  \n",
      "\n",
      "[157 rows x 15 columns]\n"
     ]
    }
   ],
   "source": [
    "# 4. Drop duplicate rows_if any\n",
    "print(df.drop_duplicates())"
   ]
  },
  {
   "cell_type": "code",
   "execution_count": 34,
   "id": "dcddfe9c",
   "metadata": {},
   "outputs": [
    {
     "name": "stdout",
     "output_type": "stream",
     "text": [
      "157\n",
      "15\n"
     ]
    }
   ],
   "source": [
    "# 5. Print number of rows and columns after dropping\n",
    "dfr=df.drop_duplicates()\n",
    "print(dfr.shape[0])\n",
    "print(dfr.shape[1])"
   ]
  },
  {
   "cell_type": "code",
   "execution_count": 39,
   "id": "dd2d8b4a",
   "metadata": {},
   "outputs": [
    {
     "name": "stdout",
     "output_type": "stream",
     "text": [
      "       Sales in thousands\n",
      "count          157.000000\n",
      "mean            52.998076\n",
      "std             68.029422\n",
      "min              0.110000\n",
      "25%             14.114000\n",
      "50%             29.450000\n",
      "75%             67.956000\n",
      "max            540.561000\n"
     ]
    }
   ],
   "source": [
    "# 6. Print summary statistics for numerical variables\n",
    "print(df.describe())"
   ]
  },
  {
   "cell_type": "code",
   "execution_count": 44,
   "id": "a405af96",
   "metadata": {},
   "outputs": [
    {
     "name": "stdout",
     "output_type": "stream",
     "text": [
      "Manufacturer           0\n",
      "Model                  0\n",
      "Sales in thousands     0\n",
      "4-year resale value    0\n",
      "Vehicle type           0\n",
      "Price in thousands     0\n",
      "Engine size            0\n",
      "Horsepower             0\n",
      "Wheelbase              0\n",
      "Width                  0\n",
      "Length                 0\n",
      "Curb weight            0\n",
      "Fuel capacity          0\n",
      "Fuel efficiency        0\n",
      "Latest Launch          0\n",
      "dtype: int64\n"
     ]
    }
   ],
   "source": [
    "# 7. Print number of missing values in each column\n",
    "# print(df)\n",
    "print(df.isnull().sum())"
   ]
  },
  {
   "cell_type": "code",
   "execution_count": 52,
   "id": "fc1f4883",
   "metadata": {},
   "outputs": [
    {
     "name": "stdout",
     "output_type": "stream",
     "text": [
      "Manufacturer\n",
      "                 Model  Sales in thousands 4-year resale value Vehicle type  \\\n",
      "0    Integra                        16.919               16.36    Passenger   \n",
      "1    TL                             39.384              19.875    Passenger   \n",
      "2    CL                             14.114              18.225    Passenger   \n",
      "3    RL                              8.588              29.725    Passenger   \n",
      "4    A4                             20.397              22.255    Passenger   \n",
      "..                 ...                 ...                 ...          ...   \n",
      "152  V40                             3.545                   .    Passenger   \n",
      "153  S70                            15.245                   .    Passenger   \n",
      "154  V70                            17.531                   .    Passenger   \n",
      "155  C70                             3.493                   .    Passenger   \n",
      "156  S80                            18.969                   .    Passenger   \n",
      "\n",
      "    Price in thousands Engine size Horsepower Wheelbase Width Length  \\\n",
      "0                 21.5         1.8        140     101.2  67.3  172.4   \n",
      "1                 28.4         3.2        225     108.1  70.3  192.9   \n",
      "2                    .         3.2        225     106.9  70.6    192   \n",
      "3                   42         3.5        210     114.6  71.4  196.6   \n",
      "4                23.99         1.8        150     102.6  68.2    178   \n",
      "..                 ...         ...        ...       ...   ...    ...   \n",
      "152               24.4         1.9        160     100.5  67.6  176.6   \n",
      "153               27.5         2.4        168     104.9  69.3  185.9   \n",
      "154               28.8         2.4        168     104.9  69.3  186.2   \n",
      "155               45.5         2.3        236     104.9  71.5  185.7   \n",
      "156                 36         2.9        201     109.9  72.1  189.8   \n",
      "\n",
      "    Curb weight Fuel capacity Fuel efficiency Latest Launch  \n",
      "0         2.639          13.2              28      2-Feb-14  \n",
      "1         3.517          17.2              25      6-Mar-15  \n",
      "2          3.47          17.2              26      1-Apr-14  \n",
      "3          3.85            18              22      3-Oct-15  \n",
      "4         2.998          16.4              27     10-Aug-15  \n",
      "..          ...           ...             ...           ...  \n",
      "152       3.042          15.8              25     21-Sep-15  \n",
      "153       3.208          17.9              25     24-Nov-14  \n",
      "154       3.259          17.9              25     25-Jun-15  \n",
      "155       3.601          18.5              23     26-Apr-15  \n",
      "156         3.6          21.1              24     14-Nov-15  \n",
      "\n",
      "[157 rows x 14 columns]\n"
     ]
    }
   ],
   "source": [
    "# 8. Drop the column with most missing values\n",
    "print(df.isnull().sum().idxmax())  # know the col to drop\n",
    "dfr=df.isnull().sum().idxmax()\n",
    "print(df.drop(columns=[dfr]))"
   ]
  },
  {
   "cell_type": "code",
   "execution_count": 62,
   "id": "8dcd2926",
   "metadata": {},
   "outputs": [
    {
     "name": "stdout",
     "output_type": "stream",
     "text": [
      "      Manufacturer              Model  Sales in thousands 4-year resale value  \\\n",
      "0    Acura          Integra                        16.919               16.36   \n",
      "1    Acura          TL                             39.384              19.875   \n",
      "2    Acura          CL                             14.114              18.225   \n",
      "3    Acura          RL                              8.588              29.725   \n",
      "4    Audi           A4                             20.397              22.255   \n",
      "..             ...                ...                 ...                 ...   \n",
      "152  Volvo          V40                             3.545                   .   \n",
      "153  Volvo          S70                            15.245                   .   \n",
      "154  Volvo          V70                            17.531                   .   \n",
      "155  Volvo          C70                             3.493                   .   \n",
      "156  Volvo          S80                            18.969                   .   \n",
      "\n",
      "    Vehicle type Price in thousands Engine size Horsepower Wheelbase Width  \\\n",
      "0      Passenger               21.5         1.8        140     101.2  67.3   \n",
      "1      Passenger               28.4         3.2        225     108.1  70.3   \n",
      "2      Passenger                  .         3.2        225     106.9  70.6   \n",
      "3      Passenger                 42         3.5        210     114.6  71.4   \n",
      "4      Passenger              23.99         1.8        150     102.6  68.2   \n",
      "..           ...                ...         ...        ...       ...   ...   \n",
      "152    Passenger               24.4         1.9        160     100.5  67.6   \n",
      "153    Passenger               27.5         2.4        168     104.9  69.3   \n",
      "154    Passenger               28.8         2.4        168     104.9  69.3   \n",
      "155    Passenger               45.5         2.3        236     104.9  71.5   \n",
      "156    Passenger                 36         2.9        201     109.9  72.1   \n",
      "\n",
      "    Length Curb weight Fuel capacity Fuel efficiency Latest Launch  \n",
      "0    172.4       2.639          13.2              28      2-Feb-14  \n",
      "1    192.9       3.517          17.2              25      6-Mar-15  \n",
      "2      192        3.47          17.2              26      1-Apr-14  \n",
      "3    196.6        3.85            18              22      3-Oct-15  \n",
      "4      178       2.998          16.4              27     10-Aug-15  \n",
      "..     ...         ...           ...             ...           ...  \n",
      "152  176.6       3.042          15.8              25     21-Sep-15  \n",
      "153  185.9       3.208          17.9              25     24-Nov-14  \n",
      "154  186.2       3.259          17.9              25     25-Jun-15  \n",
      "155  185.7       3.601          18.5              23     26-Apr-15  \n",
      "156  189.8         3.6          21.1              24     14-Nov-15  \n",
      "\n",
      "[157 rows x 15 columns]\n"
     ]
    }
   ],
   "source": [
    "# 9. Drop the rows with categorical missing values\n",
    " \n",
    "dfr=df.dropna(subset=df.select_dtypes(include=['object']).columns)\n",
    "print(dfr)\n"
   ]
  },
  {
   "cell_type": "code",
   "execution_count": 67,
   "id": "258e7d1d",
   "metadata": {},
   "outputs": [
    {
     "name": "stdout",
     "output_type": "stream",
     "text": [
      "      Manufacturer              Model  Sales in thousands 4-year resale value  \\\n",
      "0    Acura          Integra                        16.919               16.36   \n",
      "1    Acura          TL                             39.384              19.875   \n",
      "2    Acura          CL                             14.114              18.225   \n",
      "3    Acura          RL                              8.588              29.725   \n",
      "4    Audi           A4                             20.397              22.255   \n",
      "..             ...                ...                 ...                 ...   \n",
      "152  Volvo          V40                             3.545                   .   \n",
      "153  Volvo          S70                            15.245                   .   \n",
      "154  Volvo          V70                            17.531                   .   \n",
      "155  Volvo          C70                             3.493                   .   \n",
      "156  Volvo          S80                            18.969                   .   \n",
      "\n",
      "    Vehicle type Price in thousands Engine size Horsepower Wheelbase Width  \\\n",
      "0      Passenger               21.5         1.8        140     101.2  67.3   \n",
      "1      Passenger               28.4         3.2        225     108.1  70.3   \n",
      "2      Passenger                  .         3.2        225     106.9  70.6   \n",
      "3      Passenger                 42         3.5        210     114.6  71.4   \n",
      "4      Passenger              23.99         1.8        150     102.6  68.2   \n",
      "..           ...                ...         ...        ...       ...   ...   \n",
      "152    Passenger               24.4         1.9        160     100.5  67.6   \n",
      "153    Passenger               27.5         2.4        168     104.9  69.3   \n",
      "154    Passenger               28.8         2.4        168     104.9  69.3   \n",
      "155    Passenger               45.5         2.3        236     104.9  71.5   \n",
      "156    Passenger                 36         2.9        201     109.9  72.1   \n",
      "\n",
      "    Length Curb weight Fuel capacity Fuel efficiency Latest Launch  \n",
      "0    172.4       2.639          13.2              28      2-Feb-14  \n",
      "1    192.9       3.517          17.2              25      6-Mar-15  \n",
      "2      192        3.47          17.2              26      1-Apr-14  \n",
      "3    196.6        3.85            18              22      3-Oct-15  \n",
      "4      178       2.998          16.4              27     10-Aug-15  \n",
      "..     ...         ...           ...             ...           ...  \n",
      "152  176.6       3.042          15.8              25     21-Sep-15  \n",
      "153  185.9       3.208          17.9              25     24-Nov-14  \n",
      "154  186.2       3.259          17.9              25     25-Jun-15  \n",
      "155  185.7       3.601          18.5              23     26-Apr-15  \n",
      "156  189.8         3.6          21.1              24     14-Nov-15  \n",
      "\n",
      "[157 rows x 15 columns]\n"
     ]
    },
    {
     "name": "stderr",
     "output_type": "stream",
     "text": [
      "/tmp/ipykernel_3151/2764786647.py:2: FutureWarning: The default value of numeric_only in DataFrame.mean is deprecated. In a future version, it will default to False. In addition, specifying 'numeric_only=None' is deprecated. Select only valid columns or specify the value of numeric_only to silence this warning.\n",
      "  dfr=df.fillna(df[df.columns].mean())\n"
     ]
    }
   ],
   "source": [
    "# 10. Import the rows with numerical missing values\n",
    "dfr=df.fillna(df[df.columns].mean())\n",
    "print(dfr)"
   ]
  },
  {
   "cell_type": "code",
   "execution_count": 68,
   "id": "84517861",
   "metadata": {},
   "outputs": [
    {
     "name": "stdout",
     "output_type": "stream",
     "text": [
      "least  Manufacturer               Acura        \n",
      "Model                  CL               \n",
      "Sales in thousands                14.114\n",
      "4-year resale value               18.225\n",
      "Vehicle type                   Passenger\n",
      "Price in thousands                     .\n",
      "Engine size                          3.2\n",
      "Horsepower                           225\n",
      "Wheelbase                          106.9\n",
      "Width                               70.6\n",
      "Length                               192\n",
      "Curb weight                         3.47\n",
      "Fuel capacity                       17.2\n",
      "Fuel efficiency                       26\n",
      "Latest Launch                   1-Apr-14\n",
      "Name: 2, dtype: object\n",
      "most Manufacturer               Hyundai      \n",
      "Model                  Accent           \n",
      "Sales in thousands                41.184\n",
      "4-year resale value                 5.86\n",
      "Vehicle type                   Passenger\n",
      "Price in thousands                 9.699\n",
      "Engine size                          1.5\n",
      "Horsepower                            92\n",
      "Wheelbase                           96.1\n",
      "Width                               65.7\n",
      "Length                             166.7\n",
      "Curb weight                         2.24\n",
      "Fuel capacity                       11.9\n",
      "Fuel efficiency                       31\n",
      "Latest Launch                   9-Oct-14\n",
      "Name: 62, dtype: object\n"
     ]
    }
   ],
   "source": [
    "# 11. Sort Data by Price & Find Most and Least Expensive Cars\n",
    "dfr=df.sort_values(by=\"Price in thousands\")\n",
    "print(\"least \",dfr.iloc[0])\n",
    "print(\"most\",dfr.iloc[-1])"
   ]
  },
  {
   "cell_type": "code",
   "execution_count": 74,
   "id": "f6020c93",
   "metadata": {},
   "outputs": [
    {
     "name": "stdout",
     "output_type": "stream",
     "text": [
      "min \n",
      " Manufacturer           Acura        \n",
      "Model                          3-Sep\n",
      "Sales in thousands              0.11\n",
      "4-year resale value                .\n",
      "Vehicle type                     Car\n",
      "Price in thousands                 .\n",
      "Engine size                        .\n",
      "Horsepower                         .\n",
      "Wheelbase                          .\n",
      "Width                              .\n",
      "Length                             .\n",
      "Curb weight                        .\n",
      "Fuel capacity                      .\n",
      "Fuel efficiency                    .\n",
      "Latest Launch               1-Apr-14\n",
      "dtype: object \n",
      "max \n",
      " Manufacturer               Volvo        \n",
      "Model                  Xterra           \n",
      "Sales in thousands               540.561\n",
      "4-year resale value                 9.85\n",
      "Vehicle type                   Passenger\n",
      "Price in thousands                 9.699\n",
      "Engine size                            8\n",
      "Horsepower                            92\n",
      "Wheelbase                           99.8\n",
      "Width                               79.9\n",
      "Length                             224.5\n",
      "Curb weight                        5.572\n",
      "Fuel capacity                         32\n",
      "Fuel efficiency                       45\n",
      "Latest Launch                   9-Oct-14\n",
      "dtype: object\n"
     ]
    }
   ],
   "source": [
    " # 12. Write a Function to Find Min & Max Values of Any Column\n",
    "print(\"min \\n\",df.min(),\"\\nmax \\n\",df.max())"
   ]
  },
  {
   "cell_type": "code",
   "execution_count": null,
   "id": "044199a6",
   "metadata": {},
   "outputs": [],
   "source": [
    "# 13. Call the Above Function for Horsepower, Length, and Fuel Efficiency\n"
   ]
  },
  {
   "cell_type": "code",
   "execution_count": 76,
   "id": "d87517b9",
   "metadata": {},
   "outputs": [],
   "source": [
    "# 14 .Plot Histogram of Continuous Numerical Variables\n"
   ]
  },
  {
   "cell_type": "code",
   "execution_count": null,
   "id": "893d721c",
   "metadata": {},
   "outputs": [],
   "source": [
    "# 15. Probability Density Distribution for Length\n"
   ]
  },
  {
   "cell_type": "code",
   "execution_count": 80,
   "id": "c2e1bdf4",
   "metadata": {},
   "outputs": [
    {
     "name": "stdout",
     "output_type": "stream",
     "text": [
      "Manufacturer\n",
      "Acura             4\n",
      "Audi              3\n",
      "BMW               3\n",
      "Buick             4\n",
      "Cadillac          5\n",
      "Chevrolet         9\n",
      "Chrysler          7\n",
      "Dodge            11\n",
      "Ford             11\n",
      "Honda             5\n",
      "Hyundai           3\n",
      "Infiniti          1\n",
      "Jaguar            1\n",
      "Jeep              3\n",
      "Lexus             6\n",
      "Lincoln           3\n",
      "Mercedes-Benz     9\n",
      "Mercury           6\n",
      "Mitsubishi        7\n",
      "Nissan            7\n",
      "Oldsmobile        6\n",
      "Plymouth          4\n",
      "Pontiac           6\n",
      "Porsche           3\n",
      "Saab              2\n",
      "Saturn            5\n",
      "Subaru            2\n",
      "Toyota            9\n",
      "Volkswagen        6\n",
      "Volvo             6\n",
      "dtype: int64\n"
     ]
    }
   ],
   "source": [
    "# 16. Count Cars by Category – Group by Manufacturer\n",
    "dfr=df.groupby(\"Manufacturer\").size()\n",
    "print(dfr)"
   ]
  },
  {
   "cell_type": "code",
   "execution_count": 86,
   "id": "e672b17f",
   "metadata": {},
   "outputs": [
    {
     "name": "stdout",
     "output_type": "stream",
     "text": [
      "     Sales in thousands\n",
      "0                16.919\n",
      "1                39.384\n",
      "2                14.114\n",
      "3                 8.588\n",
      "4                20.397\n",
      "..                  ...\n",
      "152               3.545\n",
      "153              15.245\n",
      "154              17.531\n",
      "155               3.493\n",
      "156              18.969\n",
      "\n",
      "[157 rows x 1 columns]\n"
     ]
    }
   ],
   "source": [
    "# 17. Select All Numerical Variables\n",
    "print(df.select_dtypes(include=[\"number\"]))"
   ]
  },
  {
   "cell_type": "code",
   "execution_count": 89,
   "id": "a10973a0",
   "metadata": {},
   "outputs": [
    {
     "name": "stdout",
     "output_type": "stream",
     "text": [
      "                    Sales in thousands\n",
      "Sales in thousands                 1.0\n"
     ]
    },
    {
     "name": "stderr",
     "output_type": "stream",
     "text": [
      "/tmp/ipykernel_3151/4192906363.py:2: FutureWarning: The default value of numeric_only in DataFrame.corr is deprecated. In a future version, it will default to False. Select only valid columns or specify the value of numeric_only to silence this warning.\n",
      "  print(df.corr())\n"
     ]
    }
   ],
   "source": [
    "# 18. Print Correlation Coefficient Between Price & Sales\n",
    "print(df.corr())"
   ]
  },
  {
   "cell_type": "code",
   "execution_count": 92,
   "id": "2dd751cd",
   "metadata": {},
   "outputs": [],
   "source": [
    "# 19. Plot Correlation of Price and Sales Using Scatterplot\n",
    "# print(sns.scatterplot(x=\"Price\",y=\"Sales\"))\n"
   ]
  },
  {
   "cell_type": "code",
   "execution_count": null,
   "id": "178292b9",
   "metadata": {},
   "outputs": [],
   "source": [
    "# 20. Pair Plot\n"
   ]
  },
  {
   "cell_type": "code",
   "execution_count": null,
   "id": "09edaefb",
   "metadata": {},
   "outputs": [],
   "source": [
    "# 21. Boxplot of Sales for Different Manufacturers\n"
   ]
  },
  {
   "cell_type": "code",
   "execution_count": null,
   "id": "ef7add86",
   "metadata": {},
   "outputs": [],
   "source": [
    "# 22. Boxplot of Other Numerical Variables w.r.t Manufacturer\n"
   ]
  },
  {
   "cell_type": "code",
   "execution_count": null,
   "id": "11b47483",
   "metadata": {},
   "outputs": [],
   "source": [
    "# 23. Divide Data into Input (X) & Output (Y)\n"
   ]
  },
  {
   "cell_type": "code",
   "execution_count": null,
   "id": "8d3f7ca9",
   "metadata": {},
   "outputs": [],
   "source": [
    "# 24. Encode Categorical Variables Using Label Encoder\n"
   ]
  },
  {
   "cell_type": "code",
   "execution_count": null,
   "id": "a3f7344f",
   "metadata": {},
   "outputs": [],
   "source": [
    "# 25. Encode Vehicle Type Using One-Hot Encoding\n"
   ]
  },
  {
   "cell_type": "code",
   "execution_count": null,
   "id": "3fcfa7e4",
   "metadata": {},
   "outputs": [],
   "source": [
    "# 26. Split Dataset into Train (70%) and Test (10%)\n"
   ]
  },
  {
   "cell_type": "code",
   "execution_count": null,
   "id": "94ffb095",
   "metadata": {},
   "outputs": [],
   "source": [
    "# 27. Apply Feature Scaling on Numerical Variables\n"
   ]
  },
  {
   "cell_type": "code",
   "execution_count": null,
   "id": "af5f0158",
   "metadata": {},
   "outputs": [],
   "source": []
  },
  {
   "cell_type": "code",
   "execution_count": null,
   "id": "36bcb300",
   "metadata": {},
   "outputs": [],
   "source": []
  },
  {
   "cell_type": "code",
   "execution_count": null,
   "id": "0ab7f300",
   "metadata": {},
   "outputs": [],
   "source": []
  },
  {
   "cell_type": "code",
   "execution_count": null,
   "id": "f19f8d12",
   "metadata": {},
   "outputs": [],
   "source": []
  },
  {
   "cell_type": "code",
   "execution_count": null,
   "id": "c503be0d",
   "metadata": {},
   "outputs": [],
   "source": []
  },
  {
   "cell_type": "code",
   "execution_count": null,
   "id": "d9b905d2",
   "metadata": {},
   "outputs": [],
   "source": []
  },
  {
   "cell_type": "code",
   "execution_count": null,
   "id": "05eb6b1a",
   "metadata": {},
   "outputs": [],
   "source": []
  },
  {
   "cell_type": "code",
   "execution_count": null,
   "id": "01a4031c",
   "metadata": {},
   "outputs": [],
   "source": []
  },
  {
   "cell_type": "code",
   "execution_count": null,
   "id": "d6ee81b1",
   "metadata": {},
   "outputs": [],
   "source": []
  },
  {
   "cell_type": "code",
   "execution_count": null,
   "id": "05db9acc",
   "metadata": {},
   "outputs": [],
   "source": []
  },
  {
   "cell_type": "code",
   "execution_count": null,
   "id": "10e7a630",
   "metadata": {},
   "outputs": [],
   "source": []
  }
 ],
 "metadata": {
  "kernelspec": {
   "display_name": "Python 3 (ipykernel)",
   "language": "python",
   "name": "python3"
  },
  "language_info": {
   "codemirror_mode": {
    "name": "ipython",
    "version": 3
   },
   "file_extension": ".py",
   "mimetype": "text/x-python",
   "name": "python",
   "nbconvert_exporter": "python",
   "pygments_lexer": "ipython3",
   "version": "3.11.3"
  }
 },
 "nbformat": 4,
 "nbformat_minor": 5
}
