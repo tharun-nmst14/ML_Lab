{
 "cells": [
  {
   "cell_type": "code",
   "execution_count": 6,
   "id": "2c353054",
   "metadata": {
    "scrolled": true
   },
   "outputs": [
    {
     "data": {
      "text/html": [
       "<div>\n",
       "<style scoped>\n",
       "    .dataframe tbody tr th:only-of-type {\n",
       "        vertical-align: middle;\n",
       "    }\n",
       "\n",
       "    .dataframe tbody tr th {\n",
       "        vertical-align: top;\n",
       "    }\n",
       "\n",
       "    .dataframe thead th {\n",
       "        text-align: right;\n",
       "    }\n",
       "</style>\n",
       "<table border=\"1\" class=\"dataframe\">\n",
       "  <thead>\n",
       "    <tr style=\"text-align: right;\">\n",
       "      <th></th>\n",
       "      <th>TV</th>\n",
       "      <th>Sales</th>\n",
       "    </tr>\n",
       "  </thead>\n",
       "  <tbody>\n",
       "    <tr>\n",
       "      <th>0</th>\n",
       "      <td>230.1</td>\n",
       "      <td>22.1</td>\n",
       "    </tr>\n",
       "    <tr>\n",
       "      <th>1</th>\n",
       "      <td>44.5</td>\n",
       "      <td>10.4</td>\n",
       "    </tr>\n",
       "    <tr>\n",
       "      <th>2</th>\n",
       "      <td>17.2</td>\n",
       "      <td>9.3</td>\n",
       "    </tr>\n",
       "    <tr>\n",
       "      <th>3</th>\n",
       "      <td>151.5</td>\n",
       "      <td>18.5</td>\n",
       "    </tr>\n",
       "    <tr>\n",
       "      <th>4</th>\n",
       "      <td>180.8</td>\n",
       "      <td>12.9</td>\n",
       "    </tr>\n",
       "    <tr>\n",
       "      <th>...</th>\n",
       "      <td>...</td>\n",
       "      <td>...</td>\n",
       "    </tr>\n",
       "    <tr>\n",
       "      <th>195</th>\n",
       "      <td>38.2</td>\n",
       "      <td>7.6</td>\n",
       "    </tr>\n",
       "    <tr>\n",
       "      <th>196</th>\n",
       "      <td>94.2</td>\n",
       "      <td>9.7</td>\n",
       "    </tr>\n",
       "    <tr>\n",
       "      <th>197</th>\n",
       "      <td>177.0</td>\n",
       "      <td>12.8</td>\n",
       "    </tr>\n",
       "    <tr>\n",
       "      <th>198</th>\n",
       "      <td>283.6</td>\n",
       "      <td>25.5</td>\n",
       "    </tr>\n",
       "    <tr>\n",
       "      <th>199</th>\n",
       "      <td>232.1</td>\n",
       "      <td>13.4</td>\n",
       "    </tr>\n",
       "  </tbody>\n",
       "</table>\n",
       "<p>200 rows × 2 columns</p>\n",
       "</div>"
      ],
      "text/plain": [
       "        TV  Sales\n",
       "0    230.1   22.1\n",
       "1     44.5   10.4\n",
       "2     17.2    9.3\n",
       "3    151.5   18.5\n",
       "4    180.8   12.9\n",
       "..     ...    ...\n",
       "195   38.2    7.6\n",
       "196   94.2    9.7\n",
       "197  177.0   12.8\n",
       "198  283.6   25.5\n",
       "199  232.1   13.4\n",
       "\n",
       "[200 rows x 2 columns]"
      ]
     },
     "execution_count": 6,
     "metadata": {},
     "output_type": "execute_result"
    }
   ],
   "source": [
    "import pandas as pd\n",
    "df=pd.read_csv(\"tvmarketing.csv\")\n",
    "df"
   ]
  },
  {
   "cell_type": "code",
   "execution_count": 7,
   "id": "36357076",
   "metadata": {},
   "outputs": [
    {
     "data": {
      "text/html": [
       "<div>\n",
       "<style scoped>\n",
       "    .dataframe tbody tr th:only-of-type {\n",
       "        vertical-align: middle;\n",
       "    }\n",
       "\n",
       "    .dataframe tbody tr th {\n",
       "        vertical-align: top;\n",
       "    }\n",
       "\n",
       "    .dataframe thead th {\n",
       "        text-align: right;\n",
       "    }\n",
       "</style>\n",
       "<table border=\"1\" class=\"dataframe\">\n",
       "  <thead>\n",
       "    <tr style=\"text-align: right;\">\n",
       "      <th></th>\n",
       "      <th>TV</th>\n",
       "      <th>Sales</th>\n",
       "    </tr>\n",
       "  </thead>\n",
       "  <tbody>\n",
       "    <tr>\n",
       "      <th>0</th>\n",
       "      <td>230.1</td>\n",
       "      <td>22.1</td>\n",
       "    </tr>\n",
       "    <tr>\n",
       "      <th>1</th>\n",
       "      <td>44.5</td>\n",
       "      <td>10.4</td>\n",
       "    </tr>\n",
       "    <tr>\n",
       "      <th>2</th>\n",
       "      <td>17.2</td>\n",
       "      <td>9.3</td>\n",
       "    </tr>\n",
       "    <tr>\n",
       "      <th>3</th>\n",
       "      <td>151.5</td>\n",
       "      <td>18.5</td>\n",
       "    </tr>\n",
       "    <tr>\n",
       "      <th>4</th>\n",
       "      <td>180.8</td>\n",
       "      <td>12.9</td>\n",
       "    </tr>\n",
       "  </tbody>\n",
       "</table>\n",
       "</div>"
      ],
      "text/plain": [
       "      TV  Sales\n",
       "0  230.1   22.1\n",
       "1   44.5   10.4\n",
       "2   17.2    9.3\n",
       "3  151.5   18.5\n",
       "4  180.8   12.9"
      ]
     },
     "execution_count": 7,
     "metadata": {},
     "output_type": "execute_result"
    }
   ],
   "source": [
    "# 1. Import dataset and display first 5 rows\n",
    "df.head(5)"
   ]
  },
  {
   "cell_type": "code",
   "execution_count": 15,
   "id": "f1e841a8",
   "metadata": {},
   "outputs": [
    {
     "data": {
      "text/plain": [
       "TV       float64\n",
       "Sales    float64\n",
       "dtype: object"
      ]
     },
     "execution_count": 15,
     "metadata": {},
     "output_type": "execute_result"
    }
   ],
   "source": [
    "# 2. Check column data types\n",
    "df.dtypes"
   ]
  },
  {
   "cell_type": "code",
   "execution_count": 19,
   "id": "fb8cadb4",
   "metadata": {},
   "outputs": [
    {
     "name": "stdout",
     "output_type": "stream",
     "text": [
      "200\n",
      "2\n"
     ]
    }
   ],
   "source": [
    "# 3. Check the shape of the Data Frame (rows, columns)\n",
    "print(df.shape[0])\n",
    "print(df.shape[1])"
   ]
  },
  {
   "cell_type": "code",
   "execution_count": 20,
   "id": "4b3eb091",
   "metadata": {},
   "outputs": [
    {
     "data": {
      "text/html": [
       "<div>\n",
       "<style scoped>\n",
       "    .dataframe tbody tr th:only-of-type {\n",
       "        vertical-align: middle;\n",
       "    }\n",
       "\n",
       "    .dataframe tbody tr th {\n",
       "        vertical-align: top;\n",
       "    }\n",
       "\n",
       "    .dataframe thead th {\n",
       "        text-align: right;\n",
       "    }\n",
       "</style>\n",
       "<table border=\"1\" class=\"dataframe\">\n",
       "  <thead>\n",
       "    <tr style=\"text-align: right;\">\n",
       "      <th></th>\n",
       "      <th>TV</th>\n",
       "      <th>Sales</th>\n",
       "    </tr>\n",
       "  </thead>\n",
       "  <tbody>\n",
       "    <tr>\n",
       "      <th>count</th>\n",
       "      <td>200.000000</td>\n",
       "      <td>200.000000</td>\n",
       "    </tr>\n",
       "    <tr>\n",
       "      <th>mean</th>\n",
       "      <td>147.042500</td>\n",
       "      <td>14.022500</td>\n",
       "    </tr>\n",
       "    <tr>\n",
       "      <th>std</th>\n",
       "      <td>85.854236</td>\n",
       "      <td>5.217457</td>\n",
       "    </tr>\n",
       "    <tr>\n",
       "      <th>min</th>\n",
       "      <td>0.700000</td>\n",
       "      <td>1.600000</td>\n",
       "    </tr>\n",
       "    <tr>\n",
       "      <th>25%</th>\n",
       "      <td>74.375000</td>\n",
       "      <td>10.375000</td>\n",
       "    </tr>\n",
       "    <tr>\n",
       "      <th>50%</th>\n",
       "      <td>149.750000</td>\n",
       "      <td>12.900000</td>\n",
       "    </tr>\n",
       "    <tr>\n",
       "      <th>75%</th>\n",
       "      <td>218.825000</td>\n",
       "      <td>17.400000</td>\n",
       "    </tr>\n",
       "    <tr>\n",
       "      <th>max</th>\n",
       "      <td>296.400000</td>\n",
       "      <td>27.000000</td>\n",
       "    </tr>\n",
       "  </tbody>\n",
       "</table>\n",
       "</div>"
      ],
      "text/plain": [
       "               TV       Sales\n",
       "count  200.000000  200.000000\n",
       "mean   147.042500   14.022500\n",
       "std     85.854236    5.217457\n",
       "min      0.700000    1.600000\n",
       "25%     74.375000   10.375000\n",
       "50%    149.750000   12.900000\n",
       "75%    218.825000   17.400000\n",
       "max    296.400000   27.000000"
      ]
     },
     "execution_count": 20,
     "metadata": {},
     "output_type": "execute_result"
    }
   ],
   "source": [
    "# 4. Look at summary statistics\n",
    "df.describe()"
   ]
  },
  {
   "cell_type": "code",
   "execution_count": 29,
   "id": "475b5c3a",
   "metadata": {},
   "outputs": [
    {
     "data": {
      "image/png": "[encoded data removed]",
      "text/plain": [
       "<Figure size 800x500 with 1 Axes>"
      ]
     },
     "metadata": {},
     "output_type": "display_data"
    }
   ],
   "source": [
    "# 5. Visualize the relationship between the features and the dependent variable using scatterplots\n",
    "import matplotlib.pyplot as plt\n",
    "import seaborn as sns\n",
    "\n",
    "plt.figure(figsize=(8,5))\n",
    "sns.scatterplot(x=df[\"TV\"],y=df[\"Sales\"],color=\"green\")\n",
    "plt.xlabel(\"Tv marketting budget sales\")\n",
    "plt.ylabel(\"Sales\")\n",
    "plt.title(\"tv vs sales\")\n",
    "plt.show()"
   ]
  },
  {
   "cell_type": "code",
   "execution_count": 43,
   "id": "2337f1e9",
   "metadata": {},
   "outputs": [],
   "source": [
    "# 6. Prepare X (feature variables) and y (response variable)\n",
    "x=df[[\"TV\"]] #independent\n",
    "y=df[\"Sales\"] # dependent\n"
   ]
  },
  {
   "cell_type": "code",
   "execution_count": 42,
   "id": "90dea763",
   "metadata": {},
   "outputs": [
    {
     "name": "stdout",
     "output_type": "stream",
     "text": [
      "X_train shape: (140, 1)\n",
      "X_test shape: (60, 1)\n",
      "y_train shape: (140,)\n",
      "y_test shape: (60,)\n"
     ]
    }
   ],
   "source": [
    "# 7. Split Data into Training and Testing Sets (70%-Train 30%-Test) - X_train, y_train, X_test, y_tes\n",
    "from sklearn.model_selection import train_test_split\n",
    "\n",
    "# Splitting dataset\n",
    "X_train, X_test, y_train, y_test = train_test_split(x, y, test_size=0.3, random_state=42)\n",
    "\n",
    "# Print shapes\n",
    "print(\"X_train shape:\", X_train.shape)\n",
    "print(\"X_test shape:\", X_test.shape)\n",
    "print(\"y_train shape:\", y_train.shape)\n",
    "print(\"y_test shape:\", y_test.shape)\n"
   ]
  },
  {
   "cell_type": "code",
   "execution_count": 44,
   "id": "ee11c05b",
   "metadata": {},
   "outputs": [
    {
     "name": "stdout",
     "output_type": "stream",
     "text": [
      "X_train shape: (140, 1)\n",
      "X_test shape: (60, 1)\n",
      "y_train shape: (140,)\n",
      "y_test shape: (60,)\n"
     ]
    }
   ],
   "source": [
    "# 8. Print the shape of train data and test data\n",
    "# Print shapes\n",
    "print(\"X_train shape:\", X_train.shape)\n",
    "print(\"X_test shape:\", X_test.shape)\n",
    "print(\"y_train shape:\", y_train.shape)\n",
    "print(\"y_test shape:\", y_test.shape)\n"
   ]
  },
  {
   "cell_type": "code",
   "execution_count": 45,
   "id": "43640ab4",
   "metadata": {},
   "outputs": [
    {
     "name": "stdout",
     "output_type": "stream",
     "text": [
      "Manually Calculated Coefficients:\n",
      "Slope (m): TV    0.046408\n",
      "dtype: float64\n",
      "Intercept (b): TV    7.23946\n",
      "dtype: float64\n"
     ]
    }
   ],
   "source": [
    "# 9. Perform Linear Regression (on train data) without using any library and print the coefficients values\n",
    "\n",
    "import numpy as np\n",
    "\n",
    "# Compute slope (m) and intercept (b) manually\n",
    "n = len(X_train)\n",
    "sum_x = np.sum(X_train)\n",
    "sum_y = np.sum(y_train)\n",
    "sum_xy = np.sum(X_train.values.flatten() * y_train.values)\n",
    "sum_x2 = np.sum(X_train.values.flatten() ** 2)\n",
    "\n",
    "# Formula for slope (m)\n",
    "m = (n * sum_xy - sum_x * sum_y) / (n * sum_x2 - sum_x**2)\n",
    "\n",
    "# Formula for intercept (b)\n",
    "b = (sum_y - m * sum_x) / n\n",
    "\n",
    "# Print coefficients\n",
    "print(\"Manually Calculated Coefficients:\")\n",
    "print(\"Slope (m):\", m)\n",
    "print(\"Intercept (b):\", b)\n"
   ]
  },
  {
   "cell_type": "code",
   "execution_count": 46,
   "id": "208241d0",
   "metadata": {},
   "outputs": [
    {
     "name": "stdout",
     "output_type": "stream",
     "text": [
      "            TV\n",
      "95   14.817854\n",
      "15   16.307544\n",
      "30   20.832305\n",
      "158   7.782431\n",
      "128  17.463099\n"
     ]
    }
   ],
   "source": [
    "# 10.Create the model using the calculated coefficients and make predictions on the testing set\n",
    "# Making predictions using manually computed regression equation\n",
    "y_pred_manual = m * X_test + b\n",
    "\n",
    "# Display first few predictions\n",
    "print(y_pred_manual.head())\n"
   ]
  },
  {
   "cell_type": "code",
   "execution_count": 47,
   "id": "05033edb",
   "metadata": {},
   "outputs": [
    {
     "name": "stdout",
     "output_type": "stream",
     "text": [
      "Sklearn Model Coefficients:\n",
      "Intercept: 7.239459830751138\n",
      "Slope (Coefficient for TV): 0.046407802128152764\n"
     ]
    }
   ],
   "source": [
    "# 11.Perform Linear Regression using library(sklearn)\n",
    "from sklearn.linear_model import LinearRegression\n",
    "\n",
    "# Create model\n",
    "model = LinearRegression()\n",
    "\n",
    "# Train the model\n",
    "model.fit(X_train, y_train)\n",
    "\n",
    "# Print coefficients\n",
    "print(\"Sklearn Model Coefficients:\")\n",
    "print(\"Intercept:\", model.intercept_)\n",
    "print(\"Slope (Coefficient for TV):\", model.coef_[0])\n"
   ]
  },
  {
   "cell_type": "code",
   "execution_count": 48,
   "id": "26534d49",
   "metadata": {},
   "outputs": [
    {
     "name": "stdout",
     "output_type": "stream",
     "text": [
      "Intercept: 7.239459830751138\n",
      "Coefficient for TV: 0.046407802128152764\n"
     ]
    }
   ],
   "source": [
    "# 12.Print the intercept and coefficients\n",
    "# Print intercept and coefficient from sklearn model\n",
    "print(\"Intercept:\", model.intercept_)\n",
    "print(\"Coefficient for TV:\", model.coef_[0])\n"
   ]
  },
  {
   "cell_type": "code",
   "execution_count": 49,
   "id": "aa241e35",
   "metadata": {},
   "outputs": [
    {
     "name": "stdout",
     "output_type": "stream",
     "text": [
      "Predicted Sales for Test Data: [14.81785392 16.30754437 20.83230507  7.78243112 17.46309864]\n"
     ]
    }
   ],
   "source": [
    "# 13.Make predictions on the testing set - y_pred\n",
    "# Predict sales using the test data\n",
    "y_pred = model.predict(X_test)\n",
    "\n",
    "# Display first few predictions\n",
    "print(\"Predicted Sales for Test Data:\", y_pred[:5])\n"
   ]
  },
  {
   "cell_type": "code",
   "execution_count": 51,
   "id": "990ed3fe",
   "metadata": {},
   "outputs": [
    {
     "data": {
      "image/png": "[encoded data removed]",
      "text/plain": [
       "<Figure size 800x500 with 1 Axes>"
      ]
     },
     "metadata": {},
     "output_type": "display_data"
    }
   ],
   "source": [
    "# 14.Plot train data and the model\n",
    "# Plot training data with regression line\n",
    "plt.figure(figsize=(8, 5))\n",
    "plt.scatter(X_train, y_train, label=\"Training Data\", color='blue')\n",
    "plt.plot(X_train, model.predict(X_train), color='red', label=\"Regression Line\")\n",
    "plt.xlabel(\"TV Marketing Budget\")\n",
    "plt.ylabel(\"Sales\")\n",
    "plt.title(\"Linear Regression on Training Data\")\n",
    "plt.legend()\n",
    "plt.show()\n"
   ]
  },
  {
   "cell_type": "code",
   "execution_count": 52,
   "id": "5961bcab",
   "metadata": {},
   "outputs": [
    {
     "data": {
      "image/png": "[encoded data removed]",
      "text/plain": [
       "<Figure size 800x500 with 1 Axes>"
      ]
     },
     "metadata": {},
     "output_type": "display_data"
    }
   ],
   "source": [
    "# 15.Plot test data and the model\n",
    "# Plot test data with regression line\n",
    "plt.figure(figsize=(8, 5))\n",
    "plt.scatter(X_test, y_test, label=\"Test Data\", color='green')\n",
    "plt.plot(X_test, model.predict(X_test), color='red', label=\"Regression Line\")\n",
    "plt.xlabel(\"TV Marketing Budget\")\n",
    "plt.ylabel(\"Sales\")\n",
    "plt.title(\"Linear Regression on Testing Data\")\n",
    "plt.legend()\n",
    "plt.show()\n"
   ]
  },
  {
   "cell_type": "code",
   "execution_count": 53,
   "id": "a6aef990",
   "metadata": {},
   "outputs": [
    {
     "name": "stdout",
     "output_type": "stream",
     "text": [
      "Mean Squared Error (MSE): 8.970991242413614\n",
      "R² Score: 0.6714477229302764\n"
     ]
    }
   ],
   "source": [
    "# 16.Print Mean Squared Error and R Squared Value\n",
    "from sklearn.metrics import mean_squared_error, r2_score\n",
    "\n",
    "# Compute Mean Squared Error (MSE)\n",
    "mse = mean_squared_error(y_test, y_pred)\n",
    "\n",
    "# Compute R² score\n",
    "r2 = r2_score(y_test, y_pred)\n",
    "\n",
    "# Print results\n",
    "print(\"Mean Squared Error (MSE):\", mse)\n",
    "print(\"R² Score:\", r2)\n"
   ]
  },
  {
   "cell_type": "code",
   "execution_count": 54,
   "id": "c96abc85",
   "metadata": {},
   "outputs": [
    {
     "name": "stdout",
     "output_type": "stream",
     "text": [
      "Manually Calculated R²: 0.6714477229302764\n",
      "Manually Calculated Adjusted R²: 0.6657830284980398\n"
     ]
    }
   ],
   "source": [
    "# 17.Calculate and print R Squared and Adjusted R Squared values without any library\n",
    "import numpy as np\n",
    "\n",
    "# Compute R² manually\n",
    "ss_total = np.sum((y_test - np.mean(y_test)) ** 2)  # Total sum of squares\n",
    "ss_residual = np.sum((y_test - y_pred) ** 2)  # Residual sum of squares\n",
    "r2_manual = 1 - (ss_residual / ss_total)\n",
    "\n",
    "# Compute Adjusted R² manually\n",
    "n = len(y_test)  # Number of data points\n",
    "p = 1  # Number of predictors (TV)\n",
    "r2_adj_manual = 1 - (1 - r2_manual) * (n - 1) / (n - p - 1)\n",
    "\n",
    "# Print R² and Adjusted R²\n",
    "print(\"Manually Calculated R²:\", r2_manual)\n",
    "print(\"Manually Calculated Adjusted R²:\", r2_adj_manual)\n"
   ]
  },
  {
   "cell_type": "code",
   "execution_count": null,
   "id": "98cfdcc2",
   "metadata": {},
   "outputs": [],
   "source": []
  }
 ],
 "metadata": {
  "kernelspec": {
   "display_name": "Python 3 (ipykernel)",
   "language": "python",
   "name": "python3"
  },
  "language_info": {
   "codemirror_mode": {
    "name": "ipython",
    "version": 3
   },
   "file_extension": ".py",
   "mimetype": "text/x-python",
   "name": "python",
   "nbconvert_exporter": "python",
   "pygments_lexer": "ipython3",
   "version": "3.11.3"
  }
 },
 "nbformat": 4,
 "nbformat_minor": 5
}
